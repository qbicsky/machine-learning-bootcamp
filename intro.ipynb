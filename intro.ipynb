{
  "nbformat": 4,
  "nbformat_minor": 0,
  "metadata": {
    "colab": {
      "provenance": [],
      "toc_visible": true,
      "authorship_tag": "ABX9TyNmpiXr5mSqofJva6nvnMo0",
      "include_colab_link": true
    },
    "kernelspec": {
      "name": "python3",
      "display_name": "Python 3"
    },
    "language_info": {
      "name": "python"
    }
  },
  "cells": [
    {
      "cell_type": "markdown",
      "metadata": {
        "id": "view-in-github",
        "colab_type": "text"
      },
      "source": [
        "<a href=\"https://colab.research.google.com/github/qbicsky/machine-learning-bootcamp/blob/main/intro.ipynb\" target=\"_parent\"><img src=\"https://colab.research.google.com/assets/colab-badge.svg\" alt=\"Open In Colab\"/></a>"
      ]
    },
    {
      "cell_type": "code",
      "execution_count": 2,
      "metadata": {
        "colab": {
          "base_uri": "https://localhost:8080/"
        },
        "id": "fAyLMglBkKha",
        "outputId": "065ceae7-06ee-4a90-f920-bfada9c77682"
      },
      "outputs": [
        {
          "output_type": "stream",
          "name": "stdout",
          "text": [
            "Hello Colab\n"
          ]
        }
      ],
      "source": [
        "print('Hello Colab')"
      ]
    },
    {
      "cell_type": "markdown",
      "source": [
        "### Przykładowy nagłówek\n",
        "\n",
        "Wzór w środku $\\frac{a}{b}$ jakiegoś tekstu.\n",
        "\n",
        "Wzór jako osobny blok: $$\\frac{a}{b}$$\n",
        "\n"
      ],
      "metadata": {
        "id": "-rpfKCd_uMFK"
      }
    },
    {
      "cell_type": "code",
      "source": [],
      "metadata": {
        "id": "yEGdu8A2vRlL"
      },
      "execution_count": null,
      "outputs": []
    }
  ]
}